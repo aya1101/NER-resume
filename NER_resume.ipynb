{
  "metadata": {
    "kernelspec": {
      "language": "python",
      "display_name": "Python 3",
      "name": "python3"
    },
    "language_info": {
      "name": "python",
      "version": "3.10.12",
      "mimetype": "text/x-python",
      "codemirror_mode": {
        "name": "ipython",
        "version": 3
      },
      "pygments_lexer": "ipython3",
      "nbconvert_exporter": "python",
      "file_extension": ".py"
    },
    "kaggle": {
      "accelerator": "none",
      "dataSources": [
        {
          "sourceId": 55094,
          "sourceType": "datasetVersion",
          "datasetId": 36368
        }
      ],
      "dockerImageVersionId": 30839,
      "isInternetEnabled": true,
      "language": "python",
      "sourceType": "notebook",
      "isGpuEnabled": false
    },
    "colab": {
      "name": "NER resume",
      "provenance": [],
      "include_colab_link": true
    }
  },
  "nbformat_minor": 0,
  "nbformat": 4,
  "cells": [
    {
      "cell_type": "markdown",
      "metadata": {
        "id": "view-in-github",
        "colab_type": "text"
      },
      "source": [
        "<a href=\"https://colab.research.google.com/github/aya1101/NER-resume/blob/main/NER_resume.ipynb\" target=\"_parent\"><img src=\"https://colab.research.google.com/assets/colab-badge.svg\" alt=\"Open In Colab\"/></a>"
      ]
    },
    {
      "source": [
        "# IMPORTANT: RUN THIS CELL IN ORDER TO IMPORT YOUR KAGGLE DATA SOURCES,\n",
        "# THEN FEEL FREE TO DELETE THIS CELL.\n",
        "# NOTE: THIS NOTEBOOK ENVIRONMENT DIFFERS FROM KAGGLE'S PYTHON\n",
        "# ENVIRONMENT SO THERE MAY BE MISSING LIBRARIES USED BY YOUR\n",
        "# NOTEBOOK.\n",
        "import kagglehub\n",
        "dataturks_resume_entities_for_ner_path = kagglehub.dataset_download('dataturks/resume-entities-for-ner')\n",
        "\n",
        "print('Data source import complete.')\n"
      ],
      "metadata": {
        "id": "GueUVnGaBp05"
      },
      "cell_type": "code",
      "outputs": [],
      "execution_count": null
    },
    {
      "cell_type": "code",
      "source": [
        "# This Python 3 environment comes with many helpful analytics libraries installed\n",
        "# It is defined by the kaggle/python Docker image: https://github.com/kaggle/docker-python\n",
        "# For example, here's several helpful packages to load\n",
        "\n",
        "import numpy as np # linear algebra\n",
        "import pandas as pd # data processing, CSV file I/O (e.g. pd.read_csv)\n",
        "\n",
        "# Input data files are available in the read-only \"../input/\" directory\n",
        "# For example, running this (by clicking run or pressing Shift+Enter) will list all files under the input directory\n",
        "\n",
        "import os\n",
        "for dirname, _, filenames in os.walk('/kaggle/input'):\n",
        "    for filename in filenames:\n",
        "        print(os.path.join(dirname, filename))\n",
        "\n",
        "# You can write up to 20GB to the current directory (/kaggle/working/) that gets preserved as output when you create a version using \"Save & Run All\"\n",
        "# You can also write temporary files to /kaggle/temp/, but they won't be saved outside of the current session"
      ],
      "metadata": {
        "_uuid": "8f2839f25d086af736a60e9eeb907d3b93b6e0e5",
        "_cell_guid": "b1076dfc-b9ad-4769-8c92-a6c4dae69d19",
        "trusted": true,
        "execution": {
          "iopub.status.busy": "2025-03-13T18:49:13.805199Z",
          "iopub.execute_input": "2025-03-13T18:49:13.805768Z",
          "iopub.status.idle": "2025-03-13T18:49:14.258372Z",
          "shell.execute_reply.started": "2025-03-13T18:49:13.805714Z",
          "shell.execute_reply": "2025-03-13T18:49:14.257143Z"
        },
        "id": "Y2jTSp8DBp09"
      },
      "outputs": [],
      "execution_count": null
    },
    {
      "cell_type": "code",
      "source": [
        "import json\n",
        "import pandas as pd\n"
      ],
      "metadata": {
        "trusted": true,
        "execution": {
          "iopub.status.busy": "2025-03-13T18:49:14.259806Z",
          "iopub.execute_input": "2025-03-13T18:49:14.260367Z",
          "iopub.status.idle": "2025-03-13T18:49:14.265611Z",
          "shell.execute_reply.started": "2025-03-13T18:49:14.260332Z",
          "shell.execute_reply": "2025-03-13T18:49:14.26451Z"
        },
        "id": "hH6AA8irBp0_"
      },
      "outputs": [],
      "execution_count": null
    },
    {
      "cell_type": "code",
      "source": [
        "data = pd.read_json(\"/kaggle/input/resume-entities-for-ner/Entity Recognition in Resumes.json\", lines=True)\n",
        "data['content'] = data['content'].str.replace('\\n',' ')\n",
        "data['content'] = data['content'].str.replace('\\n',' ')\n",
        "data = data.drop(['extras'], axis=1)\n",
        "data.head()"
      ],
      "metadata": {
        "trusted": true,
        "execution": {
          "iopub.status.busy": "2025-03-13T18:49:14.267653Z",
          "iopub.execute_input": "2025-03-13T18:49:14.268038Z",
          "iopub.status.idle": "2025-03-13T18:49:14.440659Z",
          "shell.execute_reply.started": "2025-03-13T18:49:14.268011Z",
          "shell.execute_reply": "2025-03-13T18:49:14.439221Z"
        },
        "id": "yDnW28nxBp1A"
      },
      "outputs": [],
      "execution_count": null
    },
    {
      "cell_type": "code",
      "source": [
        "data.iloc[0]['annotation']"
      ],
      "metadata": {
        "trusted": true,
        "execution": {
          "iopub.status.busy": "2025-03-13T18:49:14.442258Z",
          "iopub.execute_input": "2025-03-13T18:49:14.442556Z",
          "iopub.status.idle": "2025-03-13T18:49:14.452236Z",
          "shell.execute_reply.started": "2025-03-13T18:49:14.44253Z",
          "shell.execute_reply": "2025-03-13T18:49:14.45113Z"
        },
        "id": "lnERGy3rBp1A"
      },
      "outputs": [],
      "execution_count": null
    },
    {
      "cell_type": "code",
      "source": [
        "def extract_information(df_existing):\n",
        "    entity_list = []\n",
        "\n",
        "    for index, row in df_existing.iterrows():\n",
        "        annotation_data = row[\"annotation\"]\n",
        "\n",
        "        # Nếu annotation_data không phải danh sách, đưa nó về danh sách\n",
        "        if not isinstance(annotation_data, list):\n",
        "            annotation_data = [annotation_data]\n",
        "\n",
        "        for annotation in annotation_data:\n",
        "            label = annotation[\"label\"][0] if annotation[\"label\"] else \"\"\n",
        "\n",
        "            for point in annotation.get(\"points\", []):\n",
        "                text = point.get(\"text\", \"\").strip()\n",
        "                start = point.get(\"start\", 0)\n",
        "\n",
        "                # Tách nội dung theo dấu \"•\" và tính toán vị trí start-end cho từng phần\n",
        "                sub_texts = [sub.strip() for sub in text.split(\"•\") if sub.strip()]\n",
        "                current_start = start\n",
        "\n",
        "                for sub in sub_texts:\n",
        "                    current_end = current_start + len(sub)\n",
        "                    entity_list.append((current_start, current_end, label))\n",
        "                    current_start = current_end + 1  # Giả định khoảng cách 1 ký tự giữa các mục\n",
        "\n",
        "    # Thêm danh sách entity vào dataframe ban đầu như một cột mới\n",
        "    df_existing[\"entity_list\"] = [entity_list] * len(df_existing)\n",
        "    return df_existing"
      ],
      "metadata": {
        "trusted": true,
        "execution": {
          "iopub.status.busy": "2025-03-13T18:49:14.453363Z",
          "iopub.execute_input": "2025-03-13T18:49:14.453814Z",
          "iopub.status.idle": "2025-03-13T18:49:14.472317Z",
          "shell.execute_reply.started": "2025-03-13T18:49:14.453773Z",
          "shell.execute_reply": "2025-03-13T18:49:14.471186Z"
        },
        "id": "hqLorYV2Bp1C"
      },
      "outputs": [],
      "execution_count": null
    },
    {
      "cell_type": "code",
      "source": [
        "data = extract_information(data)"
      ],
      "metadata": {
        "trusted": true,
        "execution": {
          "iopub.status.busy": "2025-03-13T18:49:14.473479Z",
          "iopub.execute_input": "2025-03-13T18:49:14.473879Z",
          "iopub.status.idle": "2025-03-13T18:49:14.543219Z",
          "shell.execute_reply.started": "2025-03-13T18:49:14.473841Z",
          "shell.execute_reply": "2025-03-13T18:49:14.541615Z"
        },
        "id": "8448rLulBp1D"
      },
      "outputs": [],
      "execution_count": null
    },
    {
      "cell_type": "code",
      "source": [
        "data.head(10)"
      ],
      "metadata": {
        "trusted": true,
        "execution": {
          "iopub.status.busy": "2025-03-13T18:49:14.544954Z",
          "iopub.execute_input": "2025-03-13T18:49:14.545395Z",
          "iopub.status.idle": "2025-03-13T18:49:14.916343Z",
          "shell.execute_reply.started": "2025-03-13T18:49:14.545354Z",
          "shell.execute_reply": "2025-03-13T18:49:14.915056Z"
        },
        "id": "71zyDvi1Bp1E"
      },
      "outputs": [],
      "execution_count": null
    },
    {
      "cell_type": "code",
      "source": [
        "data.info()"
      ],
      "metadata": {
        "trusted": true,
        "execution": {
          "iopub.status.busy": "2025-03-13T18:49:14.917429Z",
          "iopub.execute_input": "2025-03-13T18:49:14.917803Z",
          "iopub.status.idle": "2025-03-13T18:49:14.941455Z",
          "shell.execute_reply.started": "2025-03-13T18:49:14.917772Z",
          "shell.execute_reply": "2025-03-13T18:49:14.940242Z"
        },
        "id": "seZhJR79Bp1F"
      },
      "outputs": [],
      "execution_count": null
    },
    {
      "cell_type": "code",
      "source": [
        "data"
      ],
      "metadata": {
        "trusted": true,
        "execution": {
          "iopub.status.busy": "2025-03-13T18:49:14.944573Z",
          "iopub.execute_input": "2025-03-13T18:49:14.944857Z",
          "iopub.status.idle": "2025-03-13T18:49:15.294607Z",
          "shell.execute_reply.started": "2025-03-13T18:49:14.944835Z",
          "shell.execute_reply": "2025-03-13T18:49:15.293028Z"
        },
        "id": "4CyU4iNhBp1F"
      },
      "outputs": [],
      "execution_count": null
    },
    {
      "cell_type": "markdown",
      "source": [
        "# LSTM"
      ],
      "metadata": {
        "id": "c7wDDgGNBp1G"
      }
    },
    {
      "cell_type": "markdown",
      "source": [
        "Step 1: Tokenize data"
      ],
      "metadata": {
        "id": "UBM__48uBp1H"
      }
    },
    {
      "cell_type": "code",
      "source": [
        "import pandas as pd\n",
        "import torch\n",
        "from transformers import BertTokenizerFast\n",
        "tokenizer = BertTokenizerFast.from_pretrained(\"bert-base-uncased\")"
      ],
      "metadata": {
        "trusted": true,
        "execution": {
          "iopub.status.busy": "2025-03-13T18:49:15.296334Z",
          "iopub.execute_input": "2025-03-13T18:49:15.296751Z",
          "iopub.status.idle": "2025-03-13T18:49:25.391885Z",
          "shell.execute_reply.started": "2025-03-13T18:49:15.296714Z",
          "shell.execute_reply": "2025-03-13T18:49:25.390471Z"
        },
        "id": "isF2kUuPBp1I"
      },
      "outputs": [],
      "execution_count": null
    },
    {
      "cell_type": "code",
      "source": [
        "label2id = {\n",
        "    \"O\": 0, \"B-Skills\": 1, \"I-Skills\": 2, \"B-College Name\": 3, \"I-College Name\": 4,\n",
        "    \"B-Graduation Year\": 5, \"I-Graduation Year\": 6, \"B-Designation\": 7, \"I-Designation\": 8,\n",
        "    \"B-Companies worked at\": 9, \"I-Companies worked at\": 10, \"B-Email Address\": 11,\n",
        "    \"I-Email Address\": 12, \"B-Location\": 13, \"I-Location\": 14, \"B-Name\": 15, \"I-Name\": 16,\n",
        "    \"B-Degree\": 17, \"I-Degree\": 18, \"B-Years of Experience\": 19, \"I-Years of Experience\": 20\n",
        "}\n",
        "id2label = {v: k for k, v in label2id.items()}"
      ],
      "metadata": {
        "trusted": true,
        "execution": {
          "iopub.status.busy": "2025-03-13T18:49:25.392809Z",
          "iopub.execute_input": "2025-03-13T18:49:25.394798Z",
          "iopub.status.idle": "2025-03-13T18:49:25.405827Z",
          "shell.execute_reply.started": "2025-03-13T18:49:25.394401Z",
          "shell.execute_reply": "2025-03-13T18:49:25.401971Z"
        },
        "id": "gWXDPvBVBp1I"
      },
      "outputs": [],
      "execution_count": null
    },
    {
      "cell_type": "code",
      "source": [
        "def align_labels_with_tokens(text, entity_list):\n",
        "    tokenized = tokenizer(text, return_offsets_mapping=True, truncation=True, padding=\"max_length\", max_length=128)\n",
        "    input_ids = tokenized[\"input_ids\"]\n",
        "    attention_mask = tokenized[\"attention_mask\"]\n",
        "    offset_mapping = tokenized[\"offset_mapping\"]\n",
        "\n",
        "    # Khởi tạo tất cả là 'O'\n",
        "    labels = [\"O\"] * len(input_ids)\n",
        "\n",
        "    # Gán nhãn dựa trên vị trí start-end trong entity_list\n",
        "    for start, end, label_type in entity_list:\n",
        "        first = True\n",
        "\n",
        "        for i, (token_start, token_end) in enumerate(offset_mapping):\n",
        "            # Bỏ qua [CLS], [SEP], [PAD] (token có offset_mapping là (0, 0))\n",
        "            if token_start == 0 and token_end == 0:\n",
        "                continue\n",
        "\n",
        "            if token_start >= start and token_end <= end:\n",
        "                labels[i] = f\"I-{label_type}\" if not first else f\"B-{label_type}\"\n",
        "                first = False\n",
        "\n",
        "    # Chuyển labels sang ID\n",
        "    label_ids = [label2id.get(label, 0) for label in labels]\n",
        "    while len(label_ids) < 128:\n",
        "        label_ids.append(label2id[\"O\"])\n",
        "    return input_ids, attention_mask, label_ids\n"
      ],
      "metadata": {
        "trusted": true,
        "execution": {
          "iopub.status.busy": "2025-03-13T19:28:00.495723Z",
          "iopub.execute_input": "2025-03-13T19:28:00.496056Z",
          "iopub.status.idle": "2025-03-13T19:28:00.503523Z",
          "shell.execute_reply.started": "2025-03-13T19:28:00.496031Z",
          "shell.execute_reply": "2025-03-13T19:28:00.502252Z"
        },
        "id": "4kzvOaq8Bp1J"
      },
      "outputs": [],
      "execution_count": null
    },
    {
      "cell_type": "code",
      "source": [
        "def tokenize_data(data):\n",
        "    all_input_ids, all_attention_masks, all_labels = [], [], []\n",
        "\n",
        "    for _, row in data.iterrows():\n",
        "        text = row[\"content\"]\n",
        "        if isinstance(row[\"entity_list\"], list):\n",
        "            entity_list = row[\"entity_list\"]\n",
        "        else:\n",
        "            entity_list = ast.literal_eval(row[\"entity_list\"])  # Chuyển JSON thành list\n",
        "\n",
        "        input_ids, attention_mask, label_ids = align_labels_with_tokens(text, entity_list)\n",
        "\n",
        "        all_input_ids.append(input_ids)\n",
        "        all_attention_masks.append(attention_mask)\n",
        "        all_labels.append(label_ids)\n",
        "\n",
        "    return all_input_ids, all_attention_masks, all_labels\n"
      ],
      "metadata": {
        "trusted": true,
        "execution": {
          "iopub.status.busy": "2025-03-13T19:28:00.505025Z",
          "iopub.execute_input": "2025-03-13T19:28:00.505442Z",
          "iopub.status.idle": "2025-03-13T19:28:00.528421Z",
          "shell.execute_reply.started": "2025-03-13T19:28:00.505412Z",
          "shell.execute_reply": "2025-03-13T19:28:00.527289Z"
        },
        "id": "gCNs23ptBp1K"
      },
      "outputs": [],
      "execution_count": null
    },
    {
      "cell_type": "code",
      "source": [
        "all_input_ids, all_attention_masks, all_labels = tokenize_data(data)\n",
        "all_input_ids = [x for x in all_input_ids if x and len(x) > 0]\n",
        "all_attention_masks = [x for x in all_attention_masks if x and len(x) > 0]\n",
        "all_labels = [x for x in all_labels if x and len(x) > 0]"
      ],
      "metadata": {
        "trusted": true,
        "execution": {
          "iopub.status.busy": "2025-03-13T19:28:00.530186Z",
          "iopub.execute_input": "2025-03-13T19:28:00.530566Z",
          "iopub.status.idle": "2025-03-13T19:28:11.762Z",
          "shell.execute_reply.started": "2025-03-13T19:28:00.530538Z",
          "shell.execute_reply": "2025-03-13T19:28:11.760879Z"
        },
        "id": "EZoAxlcSBp1K"
      },
      "outputs": [],
      "execution_count": null
    },
    {
      "cell_type": "code",
      "source": [
        "input_ids_tensor = torch.tensor(all_input_ids)\n",
        "attention_mask_tensor = torch.tensor(all_attention_masks)\n",
        "labels_tensor = torch.tensor(all_labels)"
      ],
      "metadata": {
        "trusted": true,
        "execution": {
          "iopub.status.busy": "2025-03-13T19:28:11.76355Z",
          "iopub.execute_input": "2025-03-13T19:28:11.763917Z",
          "iopub.status.idle": "2025-03-13T19:28:11.78715Z",
          "shell.execute_reply.started": "2025-03-13T19:28:11.763887Z",
          "shell.execute_reply": "2025-03-13T19:28:11.786064Z"
        },
        "id": "lehIinPsBp1K"
      },
      "outputs": [],
      "execution_count": null
    },
    {
      "cell_type": "code",
      "source": [
        "print(input_ids_tensor[1])\n",
        "print(attention_mask_tensor[1])\n",
        "print(labels_tensor[1])"
      ],
      "metadata": {
        "trusted": true,
        "execution": {
          "iopub.status.busy": "2025-03-13T19:28:11.788188Z",
          "iopub.execute_input": "2025-03-13T19:28:11.788468Z",
          "iopub.status.idle": "2025-03-13T19:28:11.813336Z",
          "shell.execute_reply.started": "2025-03-13T19:28:11.788445Z",
          "shell.execute_reply": "2025-03-13T19:28:11.812239Z"
        },
        "id": "jlzRIDs6Bp1L"
      },
      "outputs": [],
      "execution_count": null
    },
    {
      "cell_type": "code",
      "source": [
        "from sklearn.model_selection import train_test_split\n",
        "tr_inputs, val_inputs, tr_tags, val_tags, tr_masks, val_masks = train_test_split(all_input_ids, all_labels, all_attention_masks, random_state=2025, test_size=0.2)"
      ],
      "metadata": {
        "trusted": true,
        "execution": {
          "iopub.status.busy": "2025-03-13T19:28:11.815637Z",
          "iopub.execute_input": "2025-03-13T19:28:11.815929Z",
          "iopub.status.idle": "2025-03-13T19:28:11.832799Z",
          "shell.execute_reply.started": "2025-03-13T19:28:11.815904Z",
          "shell.execute_reply": "2025-03-13T19:28:11.831736Z"
        },
        "id": "03tbU5VJBp1L"
      },
      "outputs": [],
      "execution_count": null
    },
    {
      "cell_type": "markdown",
      "source": [
        "# LSTM"
      ],
      "metadata": {
        "id": "5rBZN3c0Bp1L"
      }
    },
    {
      "cell_type": "markdown",
      "source": [
        "Sử dụng BiLSTM vì nhận diện thực thể phải dựa trên ngữ cảnh trước và sau từ đó   \n",
        "\n",
        "LSTM truyền thống chỉ nhìn từ trái qua phải -> Mất ảnh hưởng của token đằng sau."
      ],
      "metadata": {
        "id": "nifjwHh8Bp1L"
      }
    },
    {
      "cell_type": "code",
      "source": [
        "#! pip install pytorch-crf"
      ],
      "metadata": {
        "trusted": true,
        "execution": {
          "iopub.status.busy": "2025-03-13T19:28:11.834636Z",
          "iopub.execute_input": "2025-03-13T19:28:11.834967Z",
          "iopub.status.idle": "2025-03-13T19:28:11.851637Z",
          "shell.execute_reply.started": "2025-03-13T19:28:11.834941Z",
          "shell.execute_reply": "2025-03-13T19:28:11.850583Z"
        },
        "id": "lnB4S7alBp1L"
      },
      "outputs": [],
      "execution_count": null
    },
    {
      "cell_type": "code",
      "source": [
        "import torch.nn as nn\n",
        "from torchcrf import CRF"
      ],
      "metadata": {
        "trusted": true,
        "execution": {
          "iopub.status.busy": "2025-03-13T19:28:11.852728Z",
          "iopub.execute_input": "2025-03-13T19:28:11.853008Z",
          "iopub.status.idle": "2025-03-13T19:28:11.870308Z",
          "shell.execute_reply.started": "2025-03-13T19:28:11.852983Z",
          "shell.execute_reply": "2025-03-13T19:28:11.86912Z"
        },
        "id": "MLBSpcXBBp1L"
      },
      "outputs": [],
      "execution_count": null
    },
    {
      "cell_type": "code",
      "source": [
        "\n",
        "class BiLSTM_CRF(nn.Module):\n",
        "    def __init__(self, vocab_size, embed_dim, hidden_dim, num_labels):\n",
        "        super(BiLSTM_CRF, self).__init__()\n",
        "        self.embedding = nn.Embedding(vocab_size, embed_dim)\n",
        "        self.lstm = nn.LSTM(embed_dim, hidden_dim // 2, bidirectional=True, batch_first=True)\n",
        "        self.hidden2tag = nn.Linear(hidden_dim, num_labels)\n",
        "        self.crf = CRF(num_labels, batch_first=True)\n",
        "\n",
        "    def forward(self, input_ids, attention_mask, labels=None):\n",
        "        embeddings = self.embedding(input_ids)\n",
        "        lstm_out, _ = self.lstm(embeddings)\n",
        "        logits = self.hidden2tag(lstm_out)\n",
        "\n",
        "        if labels is not None:\n",
        "            loss = -self.crf(logits, labels, mask=attention_mask.byte(), reduction='mean')\n",
        "            return loss\n",
        "        else:\n",
        "            return self.crf.decode(logits, mask=attention_mask.byte())\n"
      ],
      "metadata": {
        "trusted": true,
        "execution": {
          "iopub.status.busy": "2025-03-13T19:28:11.871699Z",
          "iopub.execute_input": "2025-03-13T19:28:11.87205Z",
          "iopub.status.idle": "2025-03-13T19:28:11.889958Z",
          "shell.execute_reply.started": "2025-03-13T19:28:11.872022Z",
          "shell.execute_reply": "2025-03-13T19:28:11.888945Z"
        },
        "id": "pZgCDuL0Bp1L"
      },
      "outputs": [],
      "execution_count": null
    },
    {
      "cell_type": "code",
      "source": [
        "vocab_size = tokenizer.vocab_size\n",
        "embed_dim = 128\n",
        "hidden_dim = 256\n",
        "num_labels = len(label2id)\n",
        "\n",
        "model = BiLSTM_CRF(vocab_size, embed_dim, hidden_dim, num_labels)"
      ],
      "metadata": {
        "trusted": true,
        "execution": {
          "iopub.status.busy": "2025-03-13T19:28:11.891067Z",
          "iopub.execute_input": "2025-03-13T19:28:11.891463Z",
          "iopub.status.idle": "2025-03-13T19:28:11.947358Z",
          "shell.execute_reply.started": "2025-03-13T19:28:11.891422Z",
          "shell.execute_reply": "2025-03-13T19:28:11.946451Z"
        },
        "id": "RHtFD3DRBp1M"
      },
      "outputs": [],
      "execution_count": null
    },
    {
      "cell_type": "code",
      "source": [
        "optimizer = torch.optim.Adam(model.parameters(), lr=5e-4)\n",
        "\n",
        "for epoch in range(10):\n",
        "    model.train()\n",
        "    loss = model(input_ids_tensor, attention_mask_tensor, labels_tensor)\n",
        "    optimizer.zero_grad()\n",
        "    loss.backward()\n",
        "    optimizer.step()\n",
        "\n",
        "    print(f\"Epoch {epoch + 1}: Loss = {loss.item()}\")\n"
      ],
      "metadata": {
        "trusted": true,
        "execution": {
          "iopub.status.busy": "2025-03-13T19:28:11.94836Z",
          "iopub.execute_input": "2025-03-13T19:28:11.948709Z",
          "iopub.status.idle": "2025-03-13T19:28:24.419608Z",
          "shell.execute_reply.started": "2025-03-13T19:28:11.94867Z",
          "shell.execute_reply": "2025-03-13T19:28:24.418633Z"
        },
        "id": "SGQXsU7mBp1M"
      },
      "outputs": [],
      "execution_count": null
    },
    {
      "cell_type": "code",
      "source": [
        "model.eval()\n",
        "with torch.no_grad():\n",
        "    predictions = model(input_ids_tensor, attention_mask_tensor)"
      ],
      "metadata": {
        "trusted": true,
        "execution": {
          "iopub.status.busy": "2025-03-13T19:28:24.42058Z",
          "iopub.execute_input": "2025-03-13T19:28:24.420892Z",
          "iopub.status.idle": "2025-03-13T19:28:24.923916Z",
          "shell.execute_reply.started": "2025-03-13T19:28:24.420866Z",
          "shell.execute_reply": "2025-03-13T19:28:24.922812Z"
        },
        "id": "lmLkwFU7Bp1M"
      },
      "outputs": [],
      "execution_count": null
    },
    {
      "cell_type": "code",
      "source": [
        "print(predictions[0])"
      ],
      "metadata": {
        "trusted": true,
        "execution": {
          "iopub.status.busy": "2025-03-13T19:28:24.925143Z",
          "iopub.execute_input": "2025-03-13T19:28:24.925615Z",
          "iopub.status.idle": "2025-03-13T19:28:24.93157Z",
          "shell.execute_reply.started": "2025-03-13T19:28:24.925578Z",
          "shell.execute_reply": "2025-03-13T19:28:24.930189Z"
        },
        "id": "lu_BVW4LBp1M"
      },
      "outputs": [],
      "execution_count": null
    },
    {
      "cell_type": "code",
      "source": [
        "def decode_labels(predictions, id2label):\n",
        "    return [[id2label[idx] for idx in seq] for seq in predictions]\n",
        "\n",
        "decoded_preds = decode_labels(predictions, id2label)\n",
        "decoded_labels = decode_labels(all_labels, id2label)\n",
        "print(decoded_labels[0])"
      ],
      "metadata": {
        "trusted": true,
        "execution": {
          "iopub.status.busy": "2025-03-13T19:28:24.93417Z",
          "iopub.execute_input": "2025-03-13T19:28:24.93452Z",
          "iopub.status.idle": "2025-03-13T19:28:24.958027Z",
          "shell.execute_reply.started": "2025-03-13T19:28:24.934483Z",
          "shell.execute_reply": "2025-03-13T19:28:24.956733Z"
        },
        "id": "vFV3lqfdBp1M"
      },
      "outputs": [],
      "execution_count": null
    },
    {
      "cell_type": "code",
      "source": [
        "#! pip install seqeval"
      ],
      "metadata": {
        "trusted": true,
        "execution": {
          "iopub.status.busy": "2025-03-13T19:28:24.959579Z",
          "iopub.execute_input": "2025-03-13T19:28:24.959878Z",
          "iopub.status.idle": "2025-03-13T19:28:29.398629Z",
          "shell.execute_reply.started": "2025-03-13T19:28:24.959853Z",
          "shell.execute_reply": "2025-03-13T19:28:29.397324Z"
        },
        "id": "1h3vzVOABp1N"
      },
      "outputs": [],
      "execution_count": null
    },
    {
      "cell_type": "code",
      "source": [
        "from seqeval.metrics import classification_report\n",
        "\n",
        "print(classification_report(decoded_labels, decoded_preds))"
      ],
      "metadata": {
        "trusted": true,
        "execution": {
          "iopub.status.busy": "2025-03-13T19:28:29.399873Z",
          "iopub.execute_input": "2025-03-13T19:28:29.400208Z",
          "iopub.status.idle": "2025-03-13T19:28:29.558021Z",
          "shell.execute_reply.started": "2025-03-13T19:28:29.40018Z",
          "shell.execute_reply": "2025-03-13T19:28:29.556548Z"
        },
        "id": "5apguQMaBp1N"
      },
      "outputs": [],
      "execution_count": null
    },
    {
      "cell_type": "markdown",
      "source": [
        "# Statistical Learing approach\n",
        "Thuật toán Conditional Random Fields (CRF) là thuật toán xác suất có điều kiện. Sự khác biệt ở mô hình này là sự phân phối xác suất theo điều kiện P(y/x), và xác suất này sẽ cố gắng đưa về xác suất bình thường: P(y, x).\n",
        "Trong thuật toán CRFs, đầu vào là tập hợp các thuộc tính (dạng số thực) từ tập dữ liệu đầu vào theo một quy tắc. Trọng số của biểu thức với các thuộc tính đầu vào cùng các nhãn đã được găn thẻ trước đó và task sẽ được dùng để dự đoán cho việc nhãn gắn hiện tại. Ta sẽ ước lượng trọng số sao cho chỉ số likelihood của nhãn trog bộ dữ liệu train là cực đại."
      ],
      "metadata": {
        "id": "MSpdKxd9Bp1N"
      }
    },
    {
      "cell_type": "code",
      "source": [
        "import nltk\n",
        "from nltk.tokenize import word_tokenize\n",
        "\n",
        "def convert_to_ner_format(row):\n",
        "    text = row[\"content\"]\n",
        "    annotations = row[\"annotation\"]\n",
        "\n",
        "    # Tokenize câu\n",
        "    tokens = word_tokenize(text)\n",
        "    labels = [\"O\"] * len(tokens)  # Mặc định là \"O\" (Outside)\n",
        "\n",
        "    for ann in annotations:\n",
        "        entity_label = ann[\"label\"][0]\n",
        "        for point in ann[\"points\"]:\n",
        "            entity_text = point[\"text\"]\n",
        "            entity_start = point[\"start\"]\n",
        "            entity_end = point[\"end\"]\n",
        "\n",
        "            # Tokenize thực thể\n",
        "            entity_tokens = word_tokenize(entity_text)\n",
        "\n",
        "            # Xác định vị trí trong danh sách token gốc\n",
        "            for i in range(len(tokens)):\n",
        "                token = tokens[i]\n",
        "                token_start = text.find(token)\n",
        "                token_end = token_start + len(token)\n",
        "\n",
        "                # Gán nhãn\n",
        "                if token_start >= entity_start and token_end <= entity_end:\n",
        "                    if i == 0:\n",
        "                        labels[i] = f\"B-{entity_label}\"  # Beginning\n",
        "                    else:\n",
        "                        labels[i] = f\"I-{entity_label}\"  # Inside\n",
        "\n",
        "    return list(zip(tokens, labels))\n",
        "\n",
        "df[\"ner_data\"] = df.apply(convert_to_ner_format, axis=1)\n",
        "\n",
        "# Kiểm tra kết quả\n",
        "for tokens_labels in df[\"ner_data\"]:\n",
        "    print(tokens_labels)\n"
      ],
      "metadata": {
        "trusted": true,
        "execution": {
          "iopub.status.busy": "2025-03-13T19:28:29.559026Z",
          "iopub.status.idle": "2025-03-13T19:28:29.559537Z",
          "shell.execute_reply": "2025-03-13T19:28:29.559332Z"
        },
        "id": "zCqd-8TmBp1N"
      },
      "outputs": [],
      "execution_count": null
    },
    {
      "cell_type": "code",
      "source": [],
      "metadata": {
        "trusted": true,
        "id": "Wv14dVfLBp1O"
      },
      "outputs": [],
      "execution_count": null
    },
    {
      "cell_type": "code",
      "source": [],
      "metadata": {
        "trusted": true,
        "id": "AO0UxuZ4Bp1O"
      },
      "outputs": [],
      "execution_count": null
    }
  ]
}